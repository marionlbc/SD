{
 "cells": [
  {
   "cell_type": "markdown",
   "metadata": {},
   "source": [
    "*The following study relies on the dataset made by :\n",
    "F. Maxwell Harper and Joseph A. Konstan. 2015. The MovieLens Datasets:\n",
    "History and Context. ACM Transactions on Interactive Intelligent\n",
    "Systems (TiiS) 5, 4, Article 19 (December 2015), 19 pages.\n",
    "DOI=http://dx.doi.org/10.1145/2827872*"
   ]
  },
  {
   "cell_type": "code",
   "execution_count": 146,
   "metadata": {},
   "outputs": [],
   "source": [
    "import numpy as np\n",
    "from scipy import sparse"
   ]
  },
  {
   "cell_type": "markdown",
   "metadata": {},
   "source": [
    "# 1. Presentation of the model\n",
    "## Question 1.1\n",
    "\n",
    "###### *Run the function load movielens of movielens utils.py with the correct file name and check that the matrix R has size 943 × 1 682. What is the minidata option doing ?*\n",
    "\n",
    "We run the function *load_movielens* with the file *u.data*, located in the repertory named \"ml-100k\"."
   ]
  },
  {
   "cell_type": "code",
   "execution_count": 147,
   "metadata": {},
   "outputs": [],
   "source": [
    "def load_movielens(filename, minidata=False):\n",
    "    \"\"\"\n",
    "    Cette fonction lit le fichier filename de la base de donnees\n",
    "    Movielens, par exemple \n",
    "    filename = '~/datasets/ml-100k/u.data'\n",
    "    Elle retourne \n",
    "    R : une matrice utilisateur-item contenant les scores\n",
    "    mask : une matrice valant 1 si il y a un score et 0 sinon\n",
    "    \"\"\"\n",
    "\n",
    "    data = np.loadtxt(filename, dtype=int)\n",
    "\n",
    "    R = sparse.coo_matrix((data[:, 2], (data[:, 0]-1, data[:, 1]-1)),\n",
    "                          dtype=float)\n",
    "    R = R.toarray()  # not optimized for big data\n",
    "\n",
    "    # code la fonction 1_K\n",
    "    mask = sparse.coo_matrix((np.ones(data[:, 2].shape),\n",
    "                              (data[:, 0]-1, data[:, 1]-1)), dtype=bool )\n",
    "    mask = mask.toarray()  # not optimized for big data\n",
    "\n",
    "    if minidata is True:\n",
    "        R = R[0:100, 0:200].copy()\n",
    "        mask = mask[0:100, 0:200].copy()\n",
    "\n",
    "    return R, mask"
   ]
  },
  {
   "cell_type": "code",
   "execution_count": 148,
   "metadata": {},
   "outputs": [
    {
     "name": "stdout",
     "output_type": "stream",
     "text": [
      "The matrix R is : \n",
      " [[5. 3. 4. ... 0. 0. 0.]\n",
      " [4. 0. 0. ... 0. 0. 0.]\n",
      " [0. 0. 0. ... 0. 0. 0.]\n",
      " ...\n",
      " [5. 0. 0. ... 0. 0. 0.]\n",
      " [0. 0. 0. ... 0. 0. 0.]\n",
      " [0. 5. 0. ... 0. 0. 0.]]\n",
      "It has size : (943, 1682)\n"
     ]
    }
   ],
   "source": [
    "R, mask = load_movielens(\"ml-100k/u.data\")\n",
    "print(\"The matrix R is : \\n\", R)\n",
    "print(\"It has size :\", R.shape)"
   ]
  },
  {
   "cell_type": "markdown",
   "metadata": {},
   "source": [
    "The matrix R has the required size.\n",
    "\n",
    "The minidata option limits the R and mask matrices to the 100 first users and 200 first movies : it focuses on less data.\n",
    "We observe it with the instructions : <br>\n",
    "$\\qquad$   *if minidata is True:* <br>\n",
    "$\\qquad\\qquad$        *R = R[0:100, 0:200].copy()* <br>\n",
    "$\\qquad\\qquad$        *mask = mask[0:100, 0:200].copy()* <br>\n",
    "Indeed, if we activate the minidata option with the argument *minidata=True*, we get : "
   ]
  },
  {
   "cell_type": "code",
   "execution_count": 149,
   "metadata": {},
   "outputs": [
    {
     "name": "stdout",
     "output_type": "stream",
     "text": [
      "The R matrix size is now : (100, 200)\n"
     ]
    }
   ],
   "source": [
    "R_minidata, mask_minidata=load_movielens(\"ml-100k/u.data\", minidata=True)\n",
    "print(\"The R matrix size is now :\", R_minidata.shape)"
   ]
  },
  {
   "cell_type": "markdown",
   "metadata": {},
   "source": [
    "## Question 1.2\n",
    "\n",
    "###### *How many user and films are there in the database ? What is the total number of grades ?*\n",
    "\n",
    "As the R matrix is a \"user-movie\" matrix, there are 943 users and 1682 movies. <br> \n",
    "*(We can also find these information in the file READ.me of the directory)*\n",
    "\n",
    "To get the total number of grades, we can count how many \"True\" values are in the mask matrix. We can do it with the following instruction :"
   ]
  },
  {
   "cell_type": "code",
   "execution_count": 150,
   "metadata": {},
   "outputs": [
    {
     "data": {
      "text/plain": [
       "100000"
      ]
     },
     "execution_count": 150,
     "metadata": {},
     "output_type": "execute_result"
    }
   ],
   "source": [
    "np.sum(mask)"
   ]
  },
  {
   "cell_type": "markdown",
   "metadata": {},
   "source": [
    "*(We could also find this number in the READ.me file)*"
   ]
  },
  {
   "cell_type": "markdown",
   "metadata": {},
   "source": [
    "# 2. Find $P$ when $Q^0$ is fixed\n",
    "## Question 2.1\n",
    "\n",
    "###### *Calculate the gradient of function g. We will admit that this gradient is Lipschitz continuous with constant $L_{0}$*\n",
    "\n",
    "$\\qquad g(P)=\\frac{1}{2} \\| 1_{K}\\circ (R-Q^0P)\\|^2_{F} + \\frac{\\rho}{2}\\|Q\\|^2_{F}+ \\frac{\\rho}{2}\\|P\\|^2_{F}$ <br><br>\n",
    "Let's compute the gradient :\n",
    "\n",
    "$\\qquad\\nabla g(P) =\\rho P-(Q^0)^T*(\\mathbb{1}_{K}\\circ(R-Q^0P))$"
   ]
  },
  {
   "cell_type": "markdown",
   "metadata": {},
   "source": [
    "## Question 2.2\n",
    "\n",
    "###### *The function objective provided in the file movielens utils.py computes g(P ). Complete this function so that it also computes ∇g(P).*\n",
    "\n",
    "First we complete the line *grad_P = ...* of the *objective* function with the calculation of $\\nabla g$."
   ]
  },
  {
   "cell_type": "code",
   "execution_count": 151,
   "metadata": {},
   "outputs": [],
   "source": [
    "def objective(P, Q0, R, mask, rho):\n",
    "    \"\"\"\n",
    "    La fonction objectif du probleme simplifie.\n",
    "    Prend en entree \n",
    "    P : la variable matricielle de taille C x I\n",
    "    Q0 : une matrice de taille U x C\n",
    "    R : une matrice de taille U x I\n",
    "    mask : une matrice 0-1 de taille U x I\n",
    "    rho : un reel positif ou nul\n",
    "\n",
    "    Sorties :\n",
    "    val : la valeur de la fonction\n",
    "    grad_P : le gradient par rapport a P\n",
    "    \"\"\"\n",
    "\n",
    "    tmp = (R - Q0.dot(P)) * mask\n",
    "\n",
    "    val = np.sum(tmp ** 2)/2. + rho/2. * (np.sum(Q0 ** 2) + np.sum(P ** 2))\n",
    "\n",
    "    grad_P = rho*P - np.transpose(Q0).dot(tmp)\n",
    "\n",
    "    return val, grad_P"
   ]
  },
  {
   "cell_type": "markdown",
   "metadata": {},
   "source": [
    "Let's check our calculations :"
   ]
  },
  {
   "cell_type": "code",
   "execution_count": 152,
   "metadata": {},
   "outputs": [
    {
     "name": "stdout",
     "output_type": "stream",
     "text": [
      "The error is : 1.1689658241361758\n",
      "The relative error is : 0.0015895163847648654\n"
     ]
    }
   ],
   "source": [
    "from scipy.sparse.linalg import svds\n",
    "from scipy.optimize import check_grad\n",
    "\n",
    "Q_0, s_values, P_0 = svds(R,k=4) #k=4 : the space F has 4 elements\n",
    "#We will keep these value to test our algorithms\n",
    "\n",
    "n_users = R.shape[0] #number of users in the database\n",
    "n_movies = R.shape[1] #number of movies in the database \n",
    "rho=0.3\n",
    "\n",
    "def func_g(Pvector):\n",
    "    g, gradg = objective(np.reshape(Pvector, (4, n_movies)), Q_0, R, mask, rho)\n",
    "    return g\n",
    "\n",
    "def grad_g_ravel(Pvector):\n",
    "    g, gradg= objective(np.reshape(Pvector, (4, n_movies)), Q_0, R, mask, rho)\n",
    "    return np.ravel(gradg)\n",
    "\n",
    "error = check_grad(func_g, grad_g_ravel, np.ravel(P_0))\n",
    "relative_error = error/np.linalg.norm(grad_g_ravel(P_0))\n",
    "print(\"The error is :\", error)\n",
    "print(\"The relative error is :\", relative_error)"
   ]
  },
  {
   "cell_type": "markdown",
   "metadata": {},
   "source": [
    "*The error is a bit big but as the relative error is pretty low $~10^{-3}$ the formula is still admitted.*\n",
    "*It takes a minute to run*"
   ]
  },
  {
   "cell_type": "markdown",
   "metadata": {},
   "source": [
    "## Question 2.3\n",
    "\n",
    "###### *Code a function gradient(g, P0, gamma, epsilon) that minimizes a function g using the gradient method with a constant step size γ, starting from the initial point P0 and with stopping criterion ∥∇g(Pk)∥ ≤ ε.*\n",
    "\n",
    "Let's code a function that minimizes a function g using the gradient method :"
   ]
  },
  {
   "cell_type": "code",
   "execution_count": 153,
   "metadata": {},
   "outputs": [],
   "source": [
    "def gradientmethod(func, P0, gamma, epsilon):\n",
    "    Pk = P0\n",
    "    g_k, gradg_k = objective(Pk,Q_0,R,mask,rho)\n",
    "    while (np.linalg.norm(gradg_k)>epsilon): #stop condition\n",
    "        Pk = Pk-gamma*gradg_k\n",
    "        g_k, gradg_k = objective(Pk,Q_0,R,mask,rho)\n",
    "    return Pk, g_k"
   ]
  },
  {
   "cell_type": "markdown",
   "metadata": {},
   "source": [
    "## Question 2.4\n",
    "\n",
    "###### *Run the function coded in the previous question in order to minimize g up to the precision ε = 1.*\n",
    "\n",
    "Let's run our code with $\\epsilon = 1$ !\n",
    "Here, we use the Lipschitz constant for the gamma value : $\\gamma = \\frac{1}{L_{0}}$"
   ]
  },
  {
   "cell_type": "code",
   "execution_count": 154,
   "metadata": {},
   "outputs": [
    {
     "name": "stdout",
     "output_type": "stream",
     "text": [
      "La fonction g minimisée vaut : 369551.5499148193\n",
      "Cette valeur est atteinte au point : [[ 2.23284225e+00 -4.90664665e-01 -9.98919015e+00 ...  4.74987005e-01\n",
      "  -3.92212474e-02 -8.67808467e-01]\n",
      " [-4.53777371e+00  1.35365298e+01  2.56785789e+00 ... -3.63533351e-01\n",
      "   3.15394841e-01  1.77455812e-01]\n",
      " [-2.02978127e+01 -4.68180885e-01 -1.07452929e+01 ... -3.43502581e-01\n",
      "   8.21005494e-02  1.54999171e-01]\n",
      " [-5.76416726e+01 -2.77454348e+01 -1.98640643e+01 ... -6.09197523e-02\n",
      "  -6.75813808e-01 -6.32544121e-01]]\n"
     ]
    }
   ],
   "source": [
    "L0 = rho + np.linalg.norm((Q_0.transpose()).dot(Q_0))\n",
    "P_sol, g_min = gradientmethod(func_g,P_0,1/L0,1)\n",
    "print(\"La fonction g minimisée vaut :\", g_min)\n",
    "print(\"Cette valeur est atteinte au point :\", P_sol)"
   ]
  },
  {
   "cell_type": "markdown",
   "metadata": {},
   "source": [
    "## Question 2.5\n",
    "\n",
    "###### *Add a line search to your gradient method, so that you do not rely on the Lipschitz constant of the gradient any more.*\n",
    "\n",
    "As the Lipschitz constant isn't always known or doesn't always exist, we have to find another way to find the gamma value. \n",
    "For this purpose, we will add a line search to our gradient method :"
   ]
  },
  {
   "cell_type": "code",
   "execution_count": 155,
   "metadata": {},
   "outputs": [],
   "source": [
    "def gradient_linesearch(func, P0, a, b, epsilon):\n",
    "    Pk = P0\n",
    "    beta = 0.5\n",
    "    gradg_k = objective(Pk,Q0,R,mask,rho)[1]\n",
    "    while (np.sum(gradg_k)>epsilon):\n",
    "        gamma = b\n",
    "        new_P = Pk-gamma*gradg_k #new_P represents P*\n",
    "        while (func(new_P)>func(Pk)-beta*gamma*(np.linalg.norm(gradg_k)**2)): #we calculate the best value of gamma (= when the inequality is verified, the precision achieved is enough)\n",
    "            gamma=a*gamma\n",
    "            new_P = Pk-gamma*gradg_k\n",
    "        Pk = Pk-gamma*gradg_k\n",
    "        gradg_k = objective(Pk,Q0,R,mask,rho)[1]\n",
    "    return Pk, func(Pk)"
   ]
  },
  {
   "cell_type": "markdown",
   "metadata": {},
   "source": [
    "Here, for each iteration of the first loop (*line4*), we have $\\gamma = a^lb$ with :\n",
    "- $a \\in (0,1)$\n",
    "- $b>0$\n",
    "- $l$ the number of iterations of the second loop (*line7*)\n",
    "\n",
    "The second loop stops when the following inequality is verified : <br><center><br>\n",
    "$g(P^*) ≤ g(P_{k}) - \\beta \\gamma \\|\\nabla g(P_{k})\\|^2$ </center><br>\n",
    "with $\\; P^* = P_{k} - \\gamma \\nabla g(P_{k})$"
   ]
  },
  {
   "cell_type": "markdown",
   "metadata": {},
   "source": [
    "# 3. Resolution of the full problem\n",
    "\n",
    "We will now work with the $f$ function defined by : <br><center>\n",
    "$f(P,Q) = \\frac{1}{2} \\|1_{K} \\circ (R − QP)\\|^2_{F} + \\frac{\\rho}{2} \\|Q\\|^2_{F} + \\frac{\\rho}{2} \\|P\\|^2_{F} $\n",
    "</center>\n",
    "    \n",
    "## Question 3.1\n",
    "\n",
    "###### *By remarking that f is a polynomial of degree 4, show that its gradient is not Lipschitz continuous.*\n",
    "\n",
    "We know that f is a polynomial of degree 4, thus its gradient is polynomial of degree 3. <br>\n",
    "Yet, a polynomial can't be Lipschitz continuous if its degree is higher than 1. <br>\n",
    "It proves that $\\nabla f(P,Q)$ is not Lipschitz continuous.\n",
    "\n",
    "*Explanation* <br>\n",
    "If $\\nabla f(P,Q)$ is Lipschitz continuous, then $\\nabla^2 f(P,Q)$ is limited.\n",
    "Yet, $\\nabla f(P,Q)$ is a polynomial of degree 2 : thus, it tends to infinity when its variables tend to infinity. That's why $\\nabla^2 f(P,Q)$ is not limited and $\\nabla f(P,Q)$ is not Lipschitz continuous"
   ]
  },
  {
   "cell_type": "markdown",
   "metadata": {},
   "source": [
    "## Question 3.2\n",
    "\n",
    "###### *Solve Problem (1) by the gradient method with line search until reaching the precision ∥∇f(Pk,Qk)∥ ≤ ε with ε = 100. How do you interpret what the algorithm returns?*\n",
    "\n",
    "We will now work with a new function which calculates the gradient of the f function according to the matrix P and according to the matrix Q."
   ]
  },
  {
   "cell_type": "code",
   "execution_count": 156,
   "metadata": {},
   "outputs": [],
   "source": [
    "def total_objective(P, Q, R, mask, rho):\n",
    "    \"\"\"\n",
    "    La fonction objectif du probleme complet.\n",
    "    Prend en entree \n",
    "    P : la variable matricielle de taille C x I\n",
    "    Q : la variable matricielle de taille U x C\n",
    "    R : une matrice de taille U x I\n",
    "    mask : une matrice 0-1 de taille U x I\n",
    "    rho : un reel positif ou nul\n",
    "\n",
    "    Sorties :\n",
    "    val : la valeur de la fonction\n",
    "    grad_P : le gradient par rapport a P\n",
    "    grad_Q : le gradient par rapport a Q\n",
    "    \"\"\"\n",
    "\n",
    "    tmp = (R - Q.dot(P)) * mask\n",
    "\n",
    "    val = np.sum(tmp ** 2)/2. + rho/2. * (np.sum(Q ** 2) + np.sum(P ** 2))\n",
    "\n",
    "    grad_P = rho*P - np.transpose(Q).dot(tmp)\n",
    "\n",
    "    grad_Q = rho*Q - tmp.dot(np.transpose(P))\n",
    "\n",
    "    return val, grad_P, grad_Q\n",
    "\n",
    "\n",
    "def total_objective_vectorized(PQvec, R, mask, rho):\n",
    "    \"\"\"\n",
    "    Vectorisation of the previous function\n",
    "    \"\"\"\n",
    "\n",
    "    #Reconstruction of P et Q\n",
    "    n_movies = R.shape[1]\n",
    "    n_users = R.shape[0]\n",
    "    F = PQvec.shape[0] // (n_movies + n_users)\n",
    "    Pvec = PQvec[0:n_movies*F]\n",
    "    Qvec = PQvec[n_movies*F:]\n",
    "    P = np.reshape(Pvec, (F, n_movies))\n",
    "    Q = np.reshape(Qvec, (n_users, F))\n",
    "\n",
    "    val, grad_P, grad_Q = total_objective(P, Q, R, mask, rho)\n",
    "    return val, np.concatenate([grad_P.ravel(), grad_Q.ravel()])"
   ]
  },
  {
   "cell_type": "code",
   "execution_count": 157,
   "metadata": {},
   "outputs": [],
   "source": [
    "def func_f(PQvec):\n",
    "    return total_objective_vectorized(PQvec, R, mask, rho)[0]\n",
    "\n",
    "def total_gradient_linesearch(func, PQvec, a, b, epsilon):\n",
    "    '''The fist part of the algorithm is the same as the previous one gradient_linesearch,\n",
    "        modified with our new function to calculate the f gradient\n",
    "        The second part aims to reconstruct the P and Q matrices'''\n",
    "    gradf_k = total_objective_vectorized(PQvec,R,mask,rho)[1]\n",
    "    beta=0.5\n",
    "    while (np.linalg.norm(gradf_k)>epsilon):\n",
    "        gamma = b\n",
    "        new_PQvec = PQvec-gamma*gradf_k\n",
    "        while (func_f(new_PQvec)>func_f(PQvec)-beta*gamma*(np.linalg.norm(gradf_k)**2)):\n",
    "            gamma=a*gamma\n",
    "            new_PQvec = PQvec-gamma*gradf_k\n",
    "        PQvec = PQvec-gamma*gradf_k\n",
    "        gradf_k = total_objective_vectorized(PQvec,R,mask,rho)[1]\n",
    "   \n",
    "    #Reconstruction of P and Q\n",
    "    n_movies = R.shape[1]\n",
    "    n_users = R.shape[0]\n",
    "    F = PQvec.shape[0] // (n_movies + n_users)\n",
    "    Pvec = PQvec[0:n_movies*F]\n",
    "    Qvec = PQvec[n_movies*F:]\n",
    "    P = np.reshape(Pvec, (F, n_movies))\n",
    "    Q = np.reshape(Qvec, (n_users, F))\n",
    "    return func_f(PQvec), P, Q"
   ]
  },
  {
   "cell_type": "markdown",
   "metadata": {},
   "source": [
    "Let's solve the problem reaching the precision $\\|\\nabla f(P_{k},Q_{k})\\|_{F} ≤ \\epsilon$ with $\\epsilon = 1OO$."
   ]
  },
  {
   "cell_type": "code",
   "execution_count": 158,
   "metadata": {},
   "outputs": [
    {
     "name": "stdout",
     "output_type": "stream",
     "text": [
      "The f function minimized is :  35902.418468204756\n",
      "This value is reached with the P matrix : [[ 0.29788874 -0.02930736 -0.80313837 ...  0.08666313  0.11618958\n",
      "  -0.20905795]\n",
      " [-0.12531642  0.66789642  0.35908565 ... -0.26877394  0.01438058\n",
      "  -0.18951458]\n",
      " [-0.57308922  0.01546565 -0.85515517 ... -0.34623039  0.13807309\n",
      "   0.09761885]\n",
      " [-1.92028566 -1.5515266  -1.35239322 ... -0.21170852 -0.73438128\n",
      "  -0.72712221]]\n",
      "and the Q matrix: [[-0.67006263 -0.4829061   0.10321342 -2.17098078]\n",
      " [-0.1333853  -0.70629995 -0.48334684 -1.76027802]\n",
      " [-0.1632304  -0.52540598 -0.47150376 -1.41923831]\n",
      " ...\n",
      " [-0.24995409 -0.50229173 -0.79537329 -1.90727131]\n",
      " [ 0.98464311  0.32004033  0.28051985 -2.26922334]\n",
      " [-0.85968469  0.30369437 -0.86102378 -1.98201433]]\n"
     ]
    }
   ],
   "source": [
    "PQvec_0 = np.concatenate([P_0.ravel(), Q_0.ravel()])\n",
    "f_sol, P_sol, Q_sol = total_gradient_linesearch(func_f,PQvec_0,0.5,10,100)\n",
    "print(\"The f function minimized is : \", f_sol)\n",
    "print(\"This value is reached with the P matrix :\", P_sol)\n",
    "print(\"and the Q matrix:\", Q_sol)"
   ]
  },
  {
   "cell_type": "markdown",
   "metadata": {},
   "source": [
    "Here, what interests us is not the value of the function but rather the P and Q matrices for which this value has been reached.\n",
    "Indeed, in the long run, the aim is to calculate the R matrix with $R_{u,i} = \\sum_{f \\in F} Q_{u,f}P_{f,i}$ (with user *u* and movie *i*)\n",
    "\n",
    "*It takes a few minutes to run the code.*"
   ]
  },
  {
   "cell_type": "markdown",
   "metadata": {},
   "source": [
    "## Question 3.3\n",
    "\n",
    "###### *What film would you recommend to user 300 ?*"
   ]
  },
  {
   "cell_type": "code",
   "execution_count": 159,
   "metadata": {},
   "outputs": [
    {
     "name": "stdout",
     "output_type": "stream",
     "text": [
      "The movie I would highly recommend to user 300 is the movie number: 312 with a predicted rate of 4.509350312467269 /5\n",
      "I woul also recommend :\n",
      "113 with a predicted rate of 4.330135503678586 /5\n",
      "168 with a predicted rate of 4.388664305700444 /5\n",
      "271 with a predicted rate of 4.314356857518943 /5\n",
      "312 with a predicted rate of 4.509350312467269 /5\n",
      "407 with a predicted rate of 4.205795085277683 /5\n",
      "519 with a predicted rate of 4.326337630071839 /5\n"
     ]
    }
   ],
   "source": [
    "R_300=Q_sol.dot(P_sol)\n",
    "R_300_recommendations = list((R_300*np.invert(mask))[300]) #keeps only the movies not yet rated (= not yet seen)\n",
    "print('The movie I would highly recommend to user 300 is the movie number:', R_300_recommendations.index(max(R_300_recommendations)), 'with a predicted rate of', max(R_300_recommendations),'/5')\n",
    "\n",
    "print('I woul also recommend :')\n",
    "for i in range(0, len(R_300_recommendations)):\n",
    "    if R_300_recommendations[i]>4.2 and R_300_recommendations[i]!=312:\n",
    "        print(i, 'with a predicted rate of', R_300_recommendations[i], '/5')"
   ]
  }
 ],
 "metadata": {
  "kernelspec": {
   "display_name": "Python 3",
   "language": "python",
   "name": "python3"
  },
  "language_info": {
   "codemirror_mode": {
    "name": "ipython",
    "version": 3
   },
   "file_extension": ".py",
   "mimetype": "text/x-python",
   "name": "python",
   "nbconvert_exporter": "python",
   "pygments_lexer": "ipython3",
   "version": "3.8.3"
  }
 },
 "nbformat": 4,
 "nbformat_minor": 4
}
