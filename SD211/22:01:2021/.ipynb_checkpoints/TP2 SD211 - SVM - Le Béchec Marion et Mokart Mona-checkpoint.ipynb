{
 "cells": [
  {
   "cell_type": "markdown",
   "metadata": {},
   "source": [
    "*TP2-SD211 par Marion Le Béchec et Mona Mokart*"
   ]
  },
  {
   "cell_type": "markdown",
   "metadata": {},
   "source": [
    "# 1) Données"
   ]
  },
  {
   "cell_type": "code",
   "execution_count": 1,
   "metadata": {},
   "outputs": [],
   "source": [
    "import numpy as np\n",
    "\n",
    "def load_breastcancer(filename):\n",
    "    \"\"\"\n",
    "    Cette fonction lit le fichier filename, par exemple\n",
    "    filename = 'wdbc_M1_B0.data'\n",
    "    Elle retourne \n",
    "    X : une matrice de caracteristiques\n",
    "    y : un vecteur des classes tel que si y[i] = 1, la tumeur est maligne\n",
    "        et si y[i] = -1, la tumeur est benigne\n",
    "\n",
    "    Pour plus d'infos sur la base de donnees,\n",
    "    https://archive.ics.uci.edu/ml/datasets/Breast+Cancer+Wisconsin+%28Prognostic%29\n",
    "    \"\"\"\n",
    "\n",
    "    data = np.loadtxt(filename, delimiter=',')\n",
    "\n",
    "    # la colonne 0 ne nous interesse pas ici\n",
    "    y = data[:, 1] * 2 - 1\n",
    "    X = data[:, 2:]\n",
    "\n",
    "    # Standardisation de la matrice\n",
    "    X = X - np.mean(X, axis=0)\n",
    "    X = X / np.std(X, axis=0)\n",
    "\n",
    "    return X, y"
   ]
  },
  {
   "cell_type": "code",
   "execution_count": 2,
   "metadata": {},
   "outputs": [],
   "source": [
    "X, y = load_breastcancer(\"wdbc_M1_B0.data\")"
   ]
  },
  {
   "cell_type": "markdown",
   "metadata": {},
   "source": [
    "# 2) Méthode du sous-gradient"
   ]
  },
  {
   "cell_type": "markdown",
   "metadata": {},
   "source": [
    "## Question 2.1\n",
    "\n",
    "$\\forall i$, on souhaite avoir $\\epsilon_{i} \\geq 0 \\;\\;$ et $\\;\\;\\epsilon_{i} \\geq 1-y_{i}(x_{i}^Tv+a)$ <br> \n",
    "c'est-à-dire $\\;\\;\\epsilon_{i} \\geq max(0,1-y_{i}(x_{i}^Tv+a))$ <br><br>\n",
    "Ainsi, on veut minimiser $\\sum\\epsilon_{i}$ avec $\\forall i, \\; \\epsilon_{i} \\geq max(0,1-y_{i}(x_{i}^Tv+a)) $\n",
    "\n",
    "Il est donc équivalent de minimiser $\\epsilon_{i}$ ou $max(0,1-y_{i}(x_{i}^Tv+a)$ <br>\n",
    "Les deux problèmes sont bien équivalents"
   ]
  },
  {
   "cell_type": "markdown",
   "metadata": {},
   "source": [
    "## Question 2.2"
   ]
  },
  {
   "cell_type": "code",
   "execution_count": 3,
   "metadata": {},
   "outputs": [
    {
     "data": {
      "image/png": "[encoded data removed]",
      "text/plain": [
       "<Figure size 432x288 with 1 Axes>"
      ]
     },
     "metadata": {
      "needs_background": "light"
     },
     "output_type": "display_data"
    }
   ],
   "source": [
    "import matplotlib.pyplot as plt\n",
    "\n",
    "def h(z):\n",
    "    return np.maximum(np.zeros(z.shape),1-z)\n",
    "\n",
    "X_abs = np.arange(-10,10,0.1)\n",
    "Y_ord = h(X_abs)\n",
    "\n",
    "#Function H\n",
    "plt.plot(X_abs,Y_ord)\n",
    "plt.title(\"Function h\")\n",
    "plt.xlabel(\"X\")\n",
    "plt.ylabel(\"Y\")\n",
    "plt.ylim(-3,10)\n",
    "\n",
    "#Subdifferentials\n",
    "for i in [-1,-0.75,-0.5,-0.25,0]:\n",
    "    plt.plot(X_abs,i*(X_abs-1),\"r--\",c='r')\n",
    "\n",
    "plt.show()"
   ]
  },
  {
   "cell_type": "markdown",
   "metadata": {},
   "source": [
    "## Question 2.3"
   ]
  },
  {
   "cell_type": "markdown",
   "metadata": {},
   "source": [
    "Posons $\\;N(w) = \\frac{1}{2} * \\sum_{j=1}^{m} n_j(w_j)\\;$ avec $\\;\\forall j \\in [1;m], N_j(w_j) = w_j^2\\;$,\n",
    "ainsi N est une fonction séparable. <br>\n",
    "De plus, en posant $w = (v,a)$, on a $N(v,a) = \\frac{1}{2}\\sum_j v_j^2$. <br><br>\n",
    "\n",
    "*L'énoncé a un erreur : comme v est un vecteur colonne, il faut faire $y_{i}(x_{i} v+a)$ et non $y_{i}(x_{i}^T v+a)$* <br>\n",
    "Posons : $\\forall i, M_{i}(v,a) = y_{i}(x_{i} v+a)$ tel que $M = \n",
    "\\begin{pmatrix}\n",
    "y_{1} \\;\\;\\;\\; 0 \\\\\n",
    "\\;\\; \\ddots \\;\\; \\\\\n",
    "0 \\;\\;\\;\\; y_{n}\n",
    "\\end{pmatrix} \\times \n",
    "\\begin{pmatrix} \n",
    "\\;\\;\\;\\;   1\\\\ X \\; \\vdots \\\\ \\;\\;\\;\\;1 \n",
    "\\end{pmatrix} \\times \\begin{pmatrix} \n",
    "v_{1} \\\\ \\ddots \\\\ v_{n} \\\\ a\n",
    "\\end{pmatrix} = \\begin{pmatrix}y_1(x_1^Tv + a)\\\\ \\vdots \\\\ y_n(x_n^Tv +a) \\end{pmatrix}$. M est une application linéaire. <br><br>\n",
    "\n",
    "Enfin, posons $\\;H(x) = \\sum_{i=1}^n h(x_i)\\;$ avec $\\;h(z) = max(0,1-z)$. H est bien une fonction séparable. <br>\n",
    "On a ainsi $H(M(v,a)) = \\sum_i max(0, 1-y_i(x_i^Tv +a))$. <br><br>\n",
    "\n",
    "On a donc bien $f(v,a) = N(v,a) + cH(M(v,a))$. <br><br>\n",
    "\n",
    "Ensuite, on a $0 \\in r_i(Mdom(N) - dom(H))$ puisque $dom(N) = R_m$ <br>\n",
    "donc, d'après la proposition 2.4.2, $\\partial f(v,a) = \\partial N(v,a) + cM^T \\partial H (M(v,a)).$ <br>\n",
    "On a : $\\;\\partial N(v,a) = (v, 0)$\n",
    "et $\\;\\partial H(M(v,a)) = \\prod_i \\partial h_{i}(M_i(v,a)) = \\prod_i \\partial h(y_i(x_i^Tv+a))$ <br>"
   ]
  },
  {
   "cell_type": "markdown",
   "metadata": {},
   "source": [
    "## Question 2.4"
   ]
  },
  {
   "cell_type": "code",
   "execution_count": 4,
   "metadata": {},
   "outputs": [],
   "source": [
    "c = 1\n",
    "#va is a column matrix (v,a)\n",
    "\n",
    "Xe = np.hstack((X, np.ones((X.shape[0], 1))))\n",
    "D = np.diag(y)\n",
    "M = D@Xe\n",
    "\n",
    "def f(va):\n",
    "    return 0.5 * np.sum((va[:-1])**2) + c * np.sum(h(M@va))\n",
    "\n",
    "def dN(va):\n",
    "    return np.concatenate([va[:-1], [0]])\n",
    "    \n",
    "def dH(M_va):\n",
    "    dH=np.zeros(M_va.shape)\n",
    "    for i in range(M_va.shape[0]):\n",
    "        if M_va[i]<1:\n",
    "            dH[i]=-1\n",
    "        elif M_va[i]>1:\n",
    "            dH[i]=0\n",
    "        else:\n",
    "            dH[i]=-0.5\n",
    "    return dH\n",
    "\n",
    "def df(va):\n",
    "    return dN(va) + c * (M.T)@dH(M@va)"
   ]
  },
  {
   "cell_type": "markdown",
   "metadata": {},
   "source": [
    "## Question 2.5\n",
    "\n",
    "Méthode du sous-gradient :"
   ]
  },
  {
   "cell_type": "code",
   "execution_count": 5,
   "metadata": {
    "scrolled": true
   },
   "outputs": [
    {
     "name": "stdout",
     "output_type": "stream",
     "text": [
      "La fonction f vaut initialement : 569.0\n",
      "Avec la méthode du sous-gradient, on obtient : 30.42205653841741\n"
     ]
    },
    {
     "data": {
      "image/png": "[encoded data removed]",
      "text/plain": [
       "<Figure size 432x288 with 1 Axes>"
      ]
     },
     "metadata": {
      "needs_background": "light"
     },
     "output_type": "display_data"
    }
   ],
   "source": [
    "def sub_gradient_method(va0, N):\n",
    "    '''Dans cet algorithme, j'ai pris la liberté de prendre un gamma plus petit \n",
    "    afin d'améliorer la vitesse convergence qui était trop faible malgré un grand\n",
    "    nombre d'itérations. '''\n",
    "    sum_gamma_x = np.zeros((va0.shape))\n",
    "    sum_gamma = 0\n",
    "    X_k = va0\n",
    "    values=[]\n",
    "    for k in range(N): #condition d'arrêt : on fixe un nombre d'itérations\n",
    "        gamma = 0.001/np.sqrt(k+1)\n",
    "        sum_gamma_x += X_k * gamma #calcul du numérateur de la suite\n",
    "        sum_gamma += gamma #calcul du dénominateur de la suite\n",
    "        X_k = X_k - gamma * df(X_k)\n",
    "        values.append(f(sum_gamma_x/sum_gamma))\n",
    "    return f(sum_gamma_x/sum_gamma), values\n",
    "\n",
    "va0 = np.zeros((31,))\n",
    "print(\"La fonction f vaut initialement :\", f(va0))\n",
    "f_minimized, values =  sub_gradient_method(va0, 10000)\n",
    "print(\"Avec la méthode du sous-gradient, on obtient :\",f_minimized)\n",
    "\n",
    "X_abs = np.arange(0,10000,1)\n",
    "plt.plot(X_abs,values)\n",
    "plt.xlabel('Iterations')\n",
    "plt.ylabel('f values')\n",
    "plt.show()"
   ]
  },
  {
   "cell_type": "markdown",
   "metadata": {},
   "source": [
    "# 3) Méthode du sous-gradient stochastique "
   ]
  },
  {
   "cell_type": "markdown",
   "metadata": {},
   "source": [
    "## Question 3.1\n",
    "\n",
    "On a : \n",
    "$\\; E(f_I(v,a)) = \\sum_i P(I = i) * f_i(v,a) = \\frac{1}{n}\\sum_i f_i(v,a) $ <br>\n",
    "Donc \n",
    "$\\; E(f_I(v,a)) = \\frac{1}{n} * \\frac{1}{2} \\sum_j n*v_j^2 + \\frac{1}{n}\\sum_i c\\,n\\,max(0,1-y_i(x_i^Tv + a))= \\frac{1}{2} \\sum_j v_j^2 + c\\sum_i max(0,1-y_i(x_i^Tv + a))= f(v,a)$"
   ]
  },
  {
   "cell_type": "markdown",
   "metadata": {},
   "source": [
    "## Question 3.2\n",
    "\n",
    "On a :$f_i(v,a) = N(v,a) + c \\times n \\times h(M_i(v,a))$ <br>\n",
    "Donc : $\\partial f_i(v,a) = (v,0) + c\\times n\\times M_i^T\\partial h_i(M_i(v,a))$ <br>\n",
    "avec $\\partial h_i(M_i(v,a)) = \\left \\{ \\begin{array}{} -1 \\;\\; si M_i(v,a) < 1 \\\\ [-1;1] \\;\\; si M_i(v,a) = 1 \\\\ 0 \\;\\; si M_i(v,a) > 1 \\end{array} \\right.$"
   ]
  },
  {
   "cell_type": "markdown",
   "metadata": {},
   "source": [
    "## Question 3.3\n",
    "\n",
    "Méthode du sous-gradient stochastique :"
   ]
  },
  {
   "cell_type": "code",
   "execution_count": 6,
   "metadata": {},
   "outputs": [],
   "source": [
    "def dh_i(va, i):\n",
    "    dh = M[i]@va\n",
    "    if dh < 1:\n",
    "        return -1\n",
    "    elif dh > 1:\n",
    "        return 0\n",
    "    else:\n",
    "        return -0.5\n",
    "\n",
    "def df_i(va, i):\n",
    "    return dN(va) + c * M.shape[0] * (M[i].T)*(dh_i(va,i))\n",
    "\n",
    "def stochastic_gradient_method(va0, N):\n",
    "    n = M.shape[0]\n",
    "    sum_gamma_x = np.zeros(va0.shape)\n",
    "    sum_gamma = 0\n",
    "    Xk = va0\n",
    "    values=[]\n",
    "    for k in range(N):\n",
    "        I = np.random.randint(n) #suit une loi uniforme\n",
    "        gamma = 0.001/np.sqrt(k+1)\n",
    "        sum_gamma += gamma #calcul du dénominateur de la suite\n",
    "        sum_gamma_x += Xk * gamma #calcul du numérateur de la suite\n",
    "        Xk = Xk - gamma * df_i(Xk,I)\n",
    "        values.append(f(sum_gamma_x/sum_gamma))\n",
    "    return f(sum_gamma_x/sum_gamma), values"
   ]
  },
  {
   "cell_type": "code",
   "execution_count": 7,
   "metadata": {},
   "outputs": [
    {
     "name": "stdout",
     "output_type": "stream",
     "text": [
      "The initial value of f is 569.0\n",
      "The final value of f is 41.53342082148708\n"
     ]
    },
    {
     "data": {
      "image/png": "[encoded data removed]",
      "text/plain": [
       "<Figure size 432x288 with 1 Axes>"
      ]
     },
     "metadata": {
      "needs_background": "light"
     },
     "output_type": "display_data"
    }
   ],
   "source": [
    "va0 = np.zeros((31,))\n",
    "print(\"The initial value of f is\",f(va0))\n",
    "f_minimized_2, values_2 =  stochastic_gradient_method(va0, 10000)\n",
    "print (\"The final value of f is\", f_minimized_2)\n",
    "\n",
    "X_abs = np.arange(0,10000,1)\n",
    "plt.plot(X_abs,values_2)\n",
    "plt.xlabel('Iterations')\n",
    "plt.ylabel('f values')\n",
    "plt.show()"
   ]
  },
  {
   "cell_type": "markdown",
   "metadata": {},
   "source": [
    "Ici, à chaque exécution de l'algorithme, le résultat sera différent en raison de la loi uniforme (et donc aléatoire) que suit l'indice i de la fonction $f_i$, choisi à chaque tour."
   ]
  },
  {
   "cell_type": "markdown",
   "metadata": {},
   "source": [
    "# 4) Méthode du lagrangien"
   ]
  },
  {
   "cell_type": "markdown",
   "metadata": {},
   "source": [
    "## Question 4.1\n",
    "\n",
    "\n",
    "Avec $(v,a,\\xi, \\phi) \\in R_m \\times R \\times R_n \\times R_n$ : $$L(v, a, \\xi, \\phi) = \\frac{1}{2} \\sum_jv_j^2 + c\\sum_i\\xi_i + \\sum_i\\phi_i * (1-M_i(v,a)-\\xi_i) - \\iota_{R_+^n}(\\phi_i)$$"
   ]
  },
  {
   "cell_type": "markdown",
   "metadata": {},
   "source": [
    "## Question 4.2\n",
    "\n",
    "\n",
    "On a : $g(x, \\phi) = − \\frac{1}{2p}\\phi² + \\frac{p}{2}(max(0, x+\\frac{\\phi}{p}))^{-\\frac{1}{2}}$\n",
    "\n",
    "- Si $ x + \\frac{\\phi}{p} \\geq 0 \\;$, alors $\\; \\nabla_xg(x, \\phi) = px+\\phi$\n",
    "- Si $ x + \\frac{\\phi}{p} \\leq 0 \\;$, alors $\\; \\nabla_xg(x, \\phi) = 0$ \n",
    "\n",
    "Donc on a bien : $\\nabla_xg(x, \\phi) = max(0, px+\\phi)$ <br>\n",
    "\n",
    "\n",
    "De même pour phi :\n",
    "- Si $ x + \\frac{\\phi}{p} \\geq 0 \\;$, alors $\\; \\nabla_\\phi g(x, \\phi) = x$\n",
    "- Si $ x + \\frac{\\phi}{p} \\leq 0 \\;$, alors $\\; \\nabla_\\phi g(x, \\phi) = -\\frac{\\phi}{\\rho}$\n",
    "\n",
    "Donc on a bien : $\\nabla_xg(x, \\phi) = max(x, -\\frac{\\phi}{\\rho})$"
   ]
  },
  {
   "cell_type": "markdown",
   "metadata": {},
   "source": [
    "## Question 4.3\n",
    "\n",
    "On sait que $\\nabla_xg(x,\\Phi) = \\rho \\mbox{max}(0,x+\\frac{\\Phi}{\\rho})$ et $\\nabla_\\Phi g(x,\\Phi) = \\mbox{max}(-\\frac{\\Phi}{\\rho},x)$\n",
    "\n",
    "En les traçant on peut voir que ces deux fonctions sont convexes et leurs sous-différentielles sont :\n",
    "$$\n",
    " \\left\\{\n",
    "    \\begin{array}{ll}\n",
    "        0 & \\mbox{si } x+\\frac{\\Phi}{\\rho} <0 \\\\\n",
    "        [0,\\rho] & \\mbox{si }  x+\\frac{\\Phi}{\\rho}=0 \\\\\n",
    "        \\rho & \\mbox{si } x+\\frac{\\Phi}{\\rho}>0\n",
    "    \\end{array}\n",
    "\\right.\n",
    "\\mbox{ Pour } \\nabla_xg(x,\\Phi)\n",
    "$$\n",
    "\n",
    "et \n",
    "\n",
    "$$\n",
    " \\left\\{\n",
    "    \\begin{array}{ll}\n",
    "        \\frac{-1}{\\rho} & \\mbox{si } x+\\frac{\\Phi}{\\rho} <0 \\\\\n",
    "        [\\frac{-1}{\\rho},0] & \\mbox{si }  x+\\frac{\\Phi}{\\rho}=0 \\\\\n",
    "        0 & \\mbox{si } x+\\frac{\\Phi}{\\rho}>0\n",
    "    \\end{array}\n",
    "\\right.\n",
    "\\mbox{ Pour } \\nabla_\\Phi g(x,\\Phi)\n",
    "$$\n",
    "\n",
    "$\\rho$ étant strictement positif, ainsi :\n",
    "\n",
    "$x \\mapsto g(x,\\phi)$ a une dérivée seconde positive pour tout $\\Phi$, elle est donc convexe. \n",
    "\n",
    "$\\Phi \\mapsto g(x,\\phi)$ a une dérivée seconde négative pour tout $x$, elle est donc concave."
   ]
  },
  {
   "cell_type": "markdown",
   "metadata": {},
   "source": [
    "## Question 4.4"
   ]
  },
  {
   "cell_type": "code",
   "execution_count": 8,
   "metadata": {},
   "outputs": [],
   "source": [
    "#def g(x,phi):\n",
    "#    return -phi**2/(2*rho)+rho/2*(np.maximum(np.zeros(x.shape),x+phi/rho))**2\n",
    "\n",
    "def dg_x(x,phi):\n",
    "    return 2*np.maximum(np.zeros(x.shape),x+phi/2)\n",
    "\n",
    "#def L(v,a,ksi,phi,psi):\n",
    "#    return 0.5*np.linalg.norm(v)**2 +np.sum(g(-ksi,phi))+np.sum(g(1-ksi-D@(X@v+a)))\n",
    "    \n",
    "def gradient_desc_L(v0,a0,ksi0,phi,psi,gamma):\n",
    "    #initialisation\n",
    "    vk=v0.copy()\n",
    "    ak=a0\n",
    "    ksik=ksi0.copy()\n",
    "    dL_v = vk - (X.T)@D@dg_x(1-ksik-D@(X@vk+ak),psi)\n",
    "    dL_a = -np.sum(y*dg_x(1-ksik-D@(X@vk+ak),psi))\n",
    "    dL_ksi= c-dg_x(-ksik,phi)-dg_x(1-ksik-D@(X@vk+ak),psi)\n",
    "    d=(np.sum(dL_v**2)+dL_a**2+np.sum(dL_ksi**2))**0.5\n",
    "    \n",
    "    while d >1:\n",
    "        dL_v = vk - X.T@D@dg_x(1-ksik-D@(X@vk+ak),psi)\n",
    "        dL_a = -np.sum(y*dg_x(1-ksik-D@(X@vk+ak),psi))\n",
    "        dL_ksi= c-dg_x(-ksik,phi)-dg_x(1-ksik-D@(X@vk+ak),psi)\n",
    "        \n",
    "        vk=vk-  gamma*dL_v\n",
    "        ak=ak-gamma*dL_a\n",
    "        ksik=ksik - gamma*dL_ksi\n",
    "        \n",
    "        d = (np.sum(dL_v**2)+dL_a**2+np.sum(dL_ksi**2))**0.5\n",
    "    return vk, ak, ksik"
   ]
  },
  {
   "cell_type": "markdown",
   "metadata": {},
   "source": [
    "## Question 4.5"
   ]
  },
  {
   "cell_type": "code",
   "execution_count": 9,
   "metadata": {},
   "outputs": [],
   "source": [
    "def dg_phi(x,phi):\n",
    "    return np.maximum(-phi/2,x)\n",
    "\n",
    "def dL_phi_psi(v2,a2,ksi2,phi,psi):\n",
    "    dL_phi = dg_phi(-ksi2,phi)\n",
    "    dL_psi = dg_phi(1-ksi2-D@(X@v2+a2),psi)\n",
    "    return dL_phi,dL_psi"
   ]
  },
  {
   "cell_type": "markdown",
   "metadata": {},
   "source": [
    "## Question 4.6"
   ]
  },
  {
   "cell_type": "code",
   "execution_count": 18,
   "metadata": {},
   "outputs": [],
   "source": [
    "def lagrangien_aug(v0,a0,ksi0,phi0,psi0,max_iter):\n",
    "    v_init,a_init,ksi_init=v0.copy(),a0,ksi0.copy()\n",
    "    phi,psi=phi0.copy(),psi0.copy()\n",
    "    for k in range(max_iter):\n",
    "        v,a,ksi = gradient_desc_L(v_init,a_init,ksi_init,phi,psi,0.001)\n",
    "        \n",
    "        dL_phi,dL_psi = dL_phi_psi(v,a,ksi,phi,psi)\n",
    "        phi = phi +2*dL_phi\n",
    "        psi=psi+2*dL_psi\n",
    "    return v,a,ksi,phi,psi\n",
    "\n",
    "v0 = np.zeros((X.shape[1],))\n",
    "a0 = 0\n",
    "ksi0 = np.zeros((X.shape[0],))\n",
    "phi0 = np.zeros((X.shape[0],))\n",
    "psi0 = np.zeros((X.shape[0],))\n",
    "c=1\n",
    "v,a,ksi,phi,psi= lagrangien_aug(v0,a0,ksi0,phi0,psi0,2000)\n",
    "\n",
    "def f(v,ksi):\n",
    "    return 0.5*np.sum(v**2) + c*np.sum(ksi)"
   ]
  },
  {
   "cell_type": "code",
   "execution_count": 19,
   "metadata": {},
   "outputs": [
    {
     "data": {
      "text/plain": [
       "27.023794859370135"
      ]
     },
     "execution_count": 19,
     "metadata": {},
     "output_type": "execute_result"
    }
   ],
   "source": [
    "f(v,ksi)"
   ]
  },
  {
   "cell_type": "markdown",
   "metadata": {},
   "source": [
    "*(L'algorithme met beaucoup de temps pour s'exécuter)*"
   ]
  },
  {
   "cell_type": "markdown",
   "metadata": {},
   "source": [
    "# 5) Comparaison"
   ]
  },
  {
   "cell_type": "markdown",
   "metadata": {},
   "source": [
    "La méthode du sous-gradient permet de minimiser la fontion f à 30. <br>\n",
    "La méthode stochastique moins efficace car la fonction f prend des valeurs minimales entre 30 et 45 (elle est de plus aléatoire). <br>\n",
    "Enfin, la méthode la plus juste est celle du largangien augmentée, en effet, elle permet d'atteindre la valeur minimale 26.3 en seulement 2000 itérations (contre 10 000 pour les deuxpremières méthodes). Cependant, elle nécessite une plus grande capacité de calcul et n'est donc pas forcément efficace."
   ]
  }
 ],
 "metadata": {
  "kernelspec": {
   "display_name": "Python 3",
   "language": "python",
   "name": "python3"
  },
  "language_info": {
   "codemirror_mode": {
    "name": "ipython",
    "version": 3
   },
   "file_extension": ".py",
   "mimetype": "text/x-python",
   "name": "python",
   "nbconvert_exporter": "python",
   "pygments_lexer": "ipython3",
   "version": "3.8.3"
  }
 },
 "nbformat": 4,
 "nbformat_minor": 4
}
