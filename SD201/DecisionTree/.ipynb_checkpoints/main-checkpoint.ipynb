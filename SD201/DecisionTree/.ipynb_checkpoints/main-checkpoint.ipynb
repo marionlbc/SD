{
 "cells": [
  {
   "cell_type": "code",
   "execution_count": 35,
   "metadata": {},
   "outputs": [
    {
     "name": "stdout",
     "output_type": "stream",
     "text": [
      "Root\n",
      "Level 0\n",
      "Feature Sex [0]\n",
      "Gini 0.4723650263627057\n",
      "\n",
      "Intermediate\n",
      "Level 1\n",
      "Feature Pclass [1, 2]\n",
      "Gini 0.384430473372781\n",
      "*****\n",
      "Leaf\n",
      "Level 1\n",
      "Class 0\n",
      "Gini 0.3064437162277842\n",
      "\n",
      "Leaf\n",
      "Level 2\n",
      "Class 1\n",
      "Gini 0.10140306122448983\n",
      "*****\n",
      "Intermediate\n",
      "Level 2\n",
      "Feature Embarked [0, 1]\n",
      "Gini 0.5\n",
      "\n",
      "Leaf\n",
      "Level 3\n",
      "Class 1\n",
      "Gini 0.42283163265306123\n",
      "*****\n",
      "Leaf\n",
      "Level 3\n",
      "Class 0\n",
      "Gini 0.46875\n",
      "\n"
     ]
    }
   ],
   "source": [
    "try:\n",
    "\tfrom decision_functions import BuildDecisionTree\n",
    "\ttree=BuildDecisionTree(\"data.csv\",5)\n",
    "except Exception as e:\n",
    "\traise e\n",
    "\n",
    "try:\n",
    "\tfrom decision_functions import printDecisionTree\n",
    "\timport sys\n",
    "\tsave=sys.stdout\n",
    "\toutput = open('output_tree.txt', 'w')\n",
    "\tsys.stdout=output\n",
    "\tprintDecisionTree(tree,5)\n",
    "\tsys.stdout=save\n",
    "\toutput.close()\n",
    "except Exception as e:\n",
    "\traise e\n",
    "\n",
    "try:\n",
    "\tfrom decision_functions import generalizationError\n",
    "\tgenError = open('generalization_error.txt', 'w')\n",
    "\tgenError.write(\"The generalization error is : \")\n",
    "\tgenError.write(str(generalizationError(tree[2],tree,0.5)))\n",
    "\tgenError.close()\n",
    "except Exception as e:\n",
    "\traise e\n",
    "\n",
    "try:\n",
    "\tfrom decision_functions import pruneTree\n",
    "\tpruneTree(tree, 0.5, 5)\n",
    "\tsave=sys.stdout\n",
    "\tpostpruned = open('postpruned_tree.txt', 'w')\n",
    "\tsys.stdout=postpruned\n",
    "\tpruneTree(tree,0.5,5)\n",
    "\tsys.stdout=save\n",
    "\tpostpruned.close()\n",
    "except Exception as e:\n",
    "\traise e\n",
    "\n"
   ]
  },
  {
   "cell_type": "code",
   "execution_count": null,
   "metadata": {},
   "outputs": [],
   "source": []
  }
 ],
 "metadata": {
  "kernelspec": {
   "display_name": "Python 3",
   "language": "python",
   "name": "python3"
  },
  "language_info": {
   "codemirror_mode": {
    "name": "ipython",
    "version": 3
   },
   "file_extension": ".py",
   "mimetype": "text/x-python",
   "name": "python",
   "nbconvert_exporter": "python",
   "pygments_lexer": "ipython3",
   "version": "3.8.3"
  }
 },
 "nbformat": 4,
 "nbformat_minor": 4
}
