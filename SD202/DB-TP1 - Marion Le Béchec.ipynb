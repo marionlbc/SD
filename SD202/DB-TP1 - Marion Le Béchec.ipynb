{
 "cells": [
  {
   "cell_type": "markdown",
   "metadata": {},
   "source": [
    "# TP1 - Finding Keys using Functional Dependencies \n",
    "--------------------------\n",
    "\n",
    "In this lab, we are going to learn \n",
    "\n",
    "- how to use Jupyter\n",
    "- how to use SQLite\n",
    "- how to discover keys in relations\n",
    "\n",
    "## How to use Jupyter\n",
    "\n",
    "To execute a cell, click on it, and then use SHIFT+ENTER (this will execute the contents of the cell, and move down to the next one!)\n",
    "\n",
    "To edit a cell, click on it. If the cell uses markdown code, then use ENTER to edit it.\n",
    "\n",
    "See the Help menu for other useful keyboard commands. You can always use the menu bar instead as well.\n"
   ]
  },
  {
   "cell_type": "code",
   "execution_count": 1,
   "metadata": {},
   "outputs": [
    {
     "name": "stdout",
     "output_type": "stream",
     "text": [
      "Hello world!\n"
     ]
    }
   ],
   "source": [
    "print(\"Hello world!\")"
   ]
  },
  {
   "cell_type": "markdown",
   "metadata": {},
   "source": [
    "Another example:"
   ]
  },
  {
   "cell_type": "code",
   "execution_count": 4,
   "metadata": {},
   "outputs": [
    {
     "name": "stdout",
     "output_type": "stream",
     "text": [
      "1\n",
      "2\n",
      "3\n",
      "4\n",
      "5\n",
      "6\n",
      "7\n",
      "8\n",
      "9\n"
     ]
    }
   ],
   "source": [
    "for i in range(1,10):\n",
    "    print(i)"
   ]
  },
  {
   "cell_type": "markdown",
   "metadata": {},
   "source": [
    "#### Exercise 1\n",
    "\n",
    "Print numbers 1 to 9 in reverse order"
   ]
  },
  {
   "cell_type": "code",
   "execution_count": 6,
   "metadata": {},
   "outputs": [
    {
     "name": "stdout",
     "output_type": "stream",
     "text": [
      "9\n",
      "8\n",
      "7\n",
      "6\n",
      "5\n",
      "4\n",
      "3\n",
      "2\n",
      "1\n"
     ]
    }
   ],
   "source": [
    "for i in range(9,0,-1):\n",
    "    print(i)"
   ]
  },
  {
   "cell_type": "markdown",
   "metadata": {},
   "source": [
    "## How to use SQLite\n",
    "\n",
    "To work with SQL easily in a notebook, we'll load the ipython-sql extension as follows:"
   ]
  },
  {
   "cell_type": "code",
   "execution_count": 14,
   "metadata": {},
   "outputs": [
    {
     "name": "stdout",
     "output_type": "stream",
     "text": [
      "Collecting ipython-sql\n",
      "  Downloading ipython_sql-0.4.0-py3-none-any.whl (19 kB)\n",
      "Requirement already satisfied: sqlalchemy>=0.6.7 in /Users/Marion/opt/anaconda3/lib/python3.8/site-packages (from ipython-sql) (1.3.18)\n",
      "Requirement already satisfied: ipython-genutils>=0.1.0 in /Users/Marion/opt/anaconda3/lib/python3.8/site-packages (from ipython-sql) (0.2.0)\n",
      "Requirement already satisfied: six in /Users/Marion/opt/anaconda3/lib/python3.8/site-packages (from ipython-sql) (1.15.0)\n",
      "Collecting sqlparse\n",
      "  Downloading sqlparse-0.3.1-py2.py3-none-any.whl (40 kB)\n",
      "\u001b[K     |████████████████████████████████| 40 kB 2.1 MB/s eta 0:00:01\n",
      "\u001b[?25hCollecting prettytable<1\n",
      "  Downloading prettytable-0.7.2.tar.bz2 (21 kB)\n",
      "Requirement already satisfied: ipython>=1.0 in /Users/Marion/opt/anaconda3/lib/python3.8/site-packages (from ipython-sql) (7.16.1)\n",
      "Requirement already satisfied: traitlets>=4.2 in /Users/Marion/opt/anaconda3/lib/python3.8/site-packages (from ipython>=1.0->ipython-sql) (4.3.3)\n",
      "Requirement already satisfied: pexpect; sys_platform != \"win32\" in /Users/Marion/opt/anaconda3/lib/python3.8/site-packages (from ipython>=1.0->ipython-sql) (4.8.0)\n",
      "Requirement already satisfied: decorator in /Users/Marion/opt/anaconda3/lib/python3.8/site-packages (from ipython>=1.0->ipython-sql) (4.4.2)\n",
      "Requirement already satisfied: pygments in /Users/Marion/opt/anaconda3/lib/python3.8/site-packages (from ipython>=1.0->ipython-sql) (2.6.1)\n",
      "Requirement already satisfied: backcall in /Users/Marion/opt/anaconda3/lib/python3.8/site-packages (from ipython>=1.0->ipython-sql) (0.2.0)\n",
      "Requirement already satisfied: appnope; sys_platform == \"darwin\" in /Users/Marion/opt/anaconda3/lib/python3.8/site-packages (from ipython>=1.0->ipython-sql) (0.1.0)\n",
      "Requirement already satisfied: pickleshare in /Users/Marion/opt/anaconda3/lib/python3.8/site-packages (from ipython>=1.0->ipython-sql) (0.7.5)\n",
      "Requirement already satisfied: setuptools>=18.5 in /Users/Marion/opt/anaconda3/lib/python3.8/site-packages (from ipython>=1.0->ipython-sql) (49.2.0.post20200714)\n",
      "Requirement already satisfied: prompt-toolkit!=3.0.0,!=3.0.1,<3.1.0,>=2.0.0 in /Users/Marion/opt/anaconda3/lib/python3.8/site-packages (from ipython>=1.0->ipython-sql) (3.0.5)\n",
      "Requirement already satisfied: jedi>=0.10 in /Users/Marion/opt/anaconda3/lib/python3.8/site-packages (from ipython>=1.0->ipython-sql) (0.17.1)\n",
      "Requirement already satisfied: ptyprocess>=0.5 in /Users/Marion/opt/anaconda3/lib/python3.8/site-packages (from pexpect; sys_platform != \"win32\"->ipython>=1.0->ipython-sql) (0.6.0)\n",
      "Requirement already satisfied: wcwidth in /Users/Marion/opt/anaconda3/lib/python3.8/site-packages (from prompt-toolkit!=3.0.0,!=3.0.1,<3.1.0,>=2.0.0->ipython>=1.0->ipython-sql) (0.2.5)\n",
      "Requirement already satisfied: parso<0.8.0,>=0.7.0 in /Users/Marion/opt/anaconda3/lib/python3.8/site-packages (from jedi>=0.10->ipython>=1.0->ipython-sql) (0.7.0)\n",
      "Building wheels for collected packages: prettytable\n",
      "  Building wheel for prettytable (setup.py) ... \u001b[?25ldone\n",
      "\u001b[?25h  Created wheel for prettytable: filename=prettytable-0.7.2-py3-none-any.whl size=13698 sha256=8ebb0e34c2871b4a8534af56ff2b15d10c8da1db9b5f2175f4dd8e4df93c9949\n",
      "  Stored in directory: /Users/Marion/Library/Caches/pip/wheels/46/60/6c/bb25d05df22906786206e901e9354bb3061061191116768bee\n",
      "Successfully built prettytable\n",
      "Installing collected packages: sqlparse, prettytable, ipython-sql\n",
      "Successfully installed ipython-sql-0.4.0 prettytable-0.7.2 sqlparse-0.3.1\n",
      "Note: you may need to restart the kernel to use updated packages.\n"
     ]
    }
   ],
   "source": [
    "pip install ipython-sql"
   ]
  },
  {
   "cell_type": "code",
   "execution_count": 33,
   "metadata": {},
   "outputs": [
    {
     "name": "stdout",
     "output_type": "stream",
     "text": [
      "The sql extension is already loaded. To reload it, use:\n",
      "  %reload_ext sql\n"
     ]
    }
   ],
   "source": [
    "%load_ext sql\n",
    "%sql sqlite://"
   ]
  },
  {
   "cell_type": "markdown",
   "metadata": {},
   "source": [
    "We are going to create a table:"
   ]
  },
  {
   "cell_type": "code",
   "execution_count": 34,
   "metadata": {},
   "outputs": [
    {
     "name": "stdout",
     "output_type": "stream",
     "text": [
      " * sqlite://\n",
      "Done.\n",
      "Done.\n",
      "1 rows affected.\n",
      "1 rows affected.\n",
      "1 rows affected.\n"
     ]
    },
    {
     "data": {
      "text/plain": [
       "[]"
      ]
     },
     "execution_count": 34,
     "metadata": {},
     "output_type": "execute_result"
    }
   ],
   "source": [
    "%%sql DROP TABLE IF EXISTS T;\n",
    "CREATE TABLE T(course VARCHAR, classroom INT, time INT);\n",
    "INSERT INTO T VALUES ('CS 364', 132, 900);\n",
    "INSERT INTO T VALUES ('CS 245', 140, 1000);\n",
    "INSERT INTO T VALUES ('EE 101', 210, 900);"
   ]
  },
  {
   "cell_type": "markdown",
   "metadata": {},
   "source": [
    "Let's run our first SQL query:"
   ]
  },
  {
   "cell_type": "code",
   "execution_count": 35,
   "metadata": {},
   "outputs": [
    {
     "name": "stdout",
     "output_type": "stream",
     "text": [
      " * sqlite://\n",
      "Done.\n"
     ]
    },
    {
     "data": {
      "text/html": [
       "<table>\n",
       "    <tr>\n",
       "        <th>course</th>\n",
       "        <th>classroom</th>\n",
       "        <th>time</th>\n",
       "    </tr>\n",
       "    <tr>\n",
       "        <td>CS 364</td>\n",
       "        <td>132</td>\n",
       "        <td>900</td>\n",
       "    </tr>\n",
       "    <tr>\n",
       "        <td>CS 245</td>\n",
       "        <td>140</td>\n",
       "        <td>1000</td>\n",
       "    </tr>\n",
       "    <tr>\n",
       "        <td>EE 101</td>\n",
       "        <td>210</td>\n",
       "        <td>900</td>\n",
       "    </tr>\n",
       "</table>"
      ],
      "text/plain": [
       "[('CS 364', 132, 900), ('CS 245', 140, 1000), ('EE 101', 210, 900)]"
      ]
     },
     "execution_count": 35,
     "metadata": {},
     "output_type": "execute_result"
    }
   ],
   "source": [
    "%sql SELECT * FROM T;"
   ]
  },
  {
   "cell_type": "markdown",
   "metadata": {},
   "source": [
    "#### Exercise 2\n",
    "\n",
    "List the name of the courses with time less than 950"
   ]
  },
  {
   "cell_type": "code",
   "execution_count": 36,
   "metadata": {},
   "outputs": [
    {
     "name": "stdout",
     "output_type": "stream",
     "text": [
      " * sqlite://\n",
      "Done.\n"
     ]
    },
    {
     "data": {
      "text/html": [
       "<table>\n",
       "    <tr>\n",
       "        <th>course</th>\n",
       "    </tr>\n",
       "    <tr>\n",
       "        <td>CS 364</td>\n",
       "    </tr>\n",
       "    <tr>\n",
       "        <td>EE 101</td>\n",
       "    </tr>\n",
       "</table>"
      ],
      "text/plain": [
       "[('CS 364',), ('EE 101',)]"
      ]
     },
     "execution_count": 36,
     "metadata": {},
     "output_type": "execute_result"
    }
   ],
   "source": [
    "%sql SELECT course FROM T WHERE T.time<950 ;"
   ]
  },
  {
   "cell_type": "markdown",
   "metadata": {},
   "source": [
    "## How to discover keys in relations\n",
    "\n",
    "Now, we are going to work with functional dependencies, keys and closures. Our final goal is going to build a method to find keys in a relation.\n",
    "\n",
    "### Functional Dependencies\n",
    "\n",
    "Recall that given a set of attributes  $\\{A_1, \\dots, A_n\\}$ and a set of FDs $\\Gamma$\n",
    "\n",
    "The closure, denoted $\\{A_1, \\dots, A_n\\}^+$, is defined to be the largest set of attributes B s.t. $$A_1,\\dots,A_n \\rightarrow B \\text{ using } \\Gamma.$$\n",
    "\n",
    "We're going to use some functions to compute the closure of a set of attributes and other such operations (_from CS145 Stanford_)"
   ]
  },
  {
   "cell_type": "code",
   "execution_count": 37,
   "metadata": {},
   "outputs": [],
   "source": [
    "# Source code\n",
    "\n",
    "def to_set(x):\n",
    "  \"\"\"Convert input int, string, list, tuple, set -> set\"\"\"\n",
    "  if type(x) == set:\n",
    "    return x\n",
    "  elif type(x) in [list, set]:\n",
    "    return set(x)\n",
    "  elif type(x) in [str, int]:\n",
    "    return set([x])\n",
    "  else:\n",
    "    raise Exception(\"Unrecognized type.\")\n",
    "\n",
    "def fd_to_str(lr_tuple):\n",
    "    lhs = lr_tuple[0]\n",
    "    rhs = lr_tuple[1]\n",
    "    return \",\".join(to_set(lhs)) + \" -> \" + \",\".join(to_set(rhs))\n",
    "\n",
    "def fds_to_str(fds): return \"\\n\\t\".join(map(fd_to_str, fds))\n",
    "\n",
    "def set_to_str(x): return \"{\" + \",\".join(x) + \"}\"\n",
    "\n",
    "def fd_applies_to(fd, x): \n",
    "  lhs, rhs = map(to_set, fd)\n",
    "  return lhs.issubset(x)\n",
    "\n",
    "def print_setup(A, fds):\n",
    "  print(\"Attributes = \" + set_to_str(A))\n",
    "  print(\"FDs = \\t\" + fds_to_str(fds))\n",
    "\n",
    "def print_fds(fds):\n",
    "  print(\"FDs = \\t\" + fds_to_str(fds))    \n"
   ]
  },
  {
   "cell_type": "markdown",
   "metadata": {},
   "source": [
    "Now, let's look at a concrete example. For example, the code for\n",
    "\n",
    "attributes = { name, category, color, department, price}\n",
    "\n",
    "and functional dependencies:\n",
    "\n",
    "name $\\rightarrow$ color\n",
    "\n",
    "category $\\rightarrow$ department\n",
    "\n",
    "color, category $\\rightarrow$ price\n",
    "\n",
    "is the following:"
   ]
  },
  {
   "cell_type": "code",
   "execution_count": 38,
   "metadata": {},
   "outputs": [
    {
     "name": "stdout",
     "output_type": "stream",
     "text": [
      "Attributes = {color,name,department,price,category}\n",
      "FDs = \tname -> color\n",
      "\tcategory -> department\n",
      "\tcolor,category -> price\n"
     ]
    }
   ],
   "source": [
    "attributes  = set([\"name\", \"category\", \"color\", \"department\", \"price\"]) # These are the attribute set.\n",
    "fds = [(set([\"name\"]),\"color\"),\n",
    "         (set([\"category\"]), \"department\"),\n",
    "         (set([\"color\", \"category\"]), \"price\")]\n",
    "\n",
    "print_setup(attributes, fds)"
   ]
  },
  {
   "cell_type": "markdown",
   "metadata": {},
   "source": [
    "### Closure of a set of Attributes\n",
    "\n",
    "Let's implement the algorithm for obtaining the closure of a set of attributes:"
   ]
  },
  {
   "cell_type": "code",
   "execution_count": 39,
   "metadata": {},
   "outputs": [],
   "source": [
    "def compute_closure(x, fds, verbose=False):\n",
    "    bChanged = True        # We will repeat until there are no changes.\n",
    "    x_ret    = x.copy()    # Make a copy of the input to hold x^{+}\n",
    "    while bChanged:\n",
    "        bChanged = False   # Must change on each iteration\n",
    "        for fd in fds:     # loop through all the FDs.\n",
    "            (lhs, rhs) = map(to_set, fd) # recall: lhs -> rhs\n",
    "            if fd_applies_to(fd, x_ret) and not rhs.issubset(x_ret):\n",
    "                x_ret = x_ret.union(rhs)\n",
    "                if verbose:\n",
    "                    print(\"Using FD \" + fd_to_str(fd))\n",
    "                    print(\"\\t Updated x to \" + set_to_str(x_ret))\n",
    "                bChanged = True\n",
    "    return x_ret"
   ]
  },
  {
   "cell_type": "markdown",
   "metadata": {},
   "source": [
    "As an example, let's compute the closure for the attribute \"name\":"
   ]
  },
  {
   "cell_type": "code",
   "execution_count": 48,
   "metadata": {},
   "outputs": [
    {
     "name": "stdout",
     "output_type": "stream",
     "text": [
      "Using FD name -> color\n",
      "\t Updated x to {color,name}\n"
     ]
    },
    {
     "data": {
      "text/plain": [
       "{'color', 'name'}"
      ]
     },
     "execution_count": 48,
     "metadata": {},
     "output_type": "execute_result"
    }
   ],
   "source": [
    "A = set([\"name\"])\n",
    "compute_closure(A,fds, True)"
   ]
  },
  {
   "cell_type": "markdown",
   "metadata": {},
   "source": [
    "#### Exercise 3\n",
    "\n",
    "Is the attribute \"name\" a superkey for this relation? Why?"
   ]
  },
  {
   "cell_type": "raw",
   "metadata": {},
   "source": [
    "No because we don't have name -> category nor name -> price nor name -> department "
   ]
  },
  {
   "cell_type": "markdown",
   "metadata": {},
   "source": [
    "### Keys and Superkeys\n",
    "\n",
    "Next, we'll add some new functions now for finding superkeys and keys.  Recall:\n",
    "* A _superkey_ for a relation $R(B_1,\\dots,B_m)$ is a set of attributes $\\{A_1,\\dots,A_n\\}$ s.t.\n",
    "$$ \\{A_1,\\dots,A_n\\} \\rightarrow B_{j} \\text{ for all } j=1,\\dots m$$\n",
    "* A _key_ is a minimal (setwise) _superkey_\n",
    "\n",
    "The algorithm to determine if a set of attributes $A$ is a superkey for $X$ is actually very simple (check if $A^+=X$):"
   ]
  },
  {
   "cell_type": "code",
   "execution_count": 41,
   "metadata": {},
   "outputs": [],
   "source": [
    "def is_superkey_for(A, X, fds, verbose=False): \n",
    "    return X.issubset(compute_closure(A, fds, verbose=verbose))"
   ]
  },
  {
   "cell_type": "markdown",
   "metadata": {},
   "source": [
    "Is \"name\" a superkey of the relation?"
   ]
  },
  {
   "cell_type": "code",
   "execution_count": 46,
   "metadata": {},
   "outputs": [
    {
     "data": {
      "text/plain": [
       "False"
      ]
     },
     "execution_count": 46,
     "metadata": {},
     "output_type": "execute_result"
    }
   ],
   "source": [
    "is_superkey_for(A, attributes, fds)"
   ]
  },
  {
   "cell_type": "markdown",
   "metadata": {},
   "source": [
    "Then, to check if $A$ is a key for $X$, we just confirm that:\n",
    "* (a) it is a superkey\n",
    "* (b) there are no smaller superkeys (_Note that we only need to check for superkeys of one size smaller_)"
   ]
  },
  {
   "cell_type": "code",
   "execution_count": 43,
   "metadata": {},
   "outputs": [],
   "source": [
    "import itertools\n",
    "def is_key_for(A, X, fds, verbose=False):\n",
    "    subsets = set(itertools.combinations(A, len(A)-1))\n",
    "    return is_superkey_for(A, X, fds) and \\\n",
    "        all([not is_superkey_for(set(SA), X, fds) for SA in subsets])"
   ]
  },
  {
   "cell_type": "markdown",
   "metadata": {},
   "source": [
    "Now, let's look at another example:\n",
    "\n",
    "attributes = { cru, type, client, remise}\n",
    "\n",
    "and functional dependencies:\n",
    "\n",
    "cru $\\rightarrow$ type\n",
    "\n",
    "type, client $\\rightarrow$ remise\n",
    "\n",
    "#### Exercise 4\n",
    "\n",
    "Is \"cru\" and \"client\" a key of the relation? Why?"
   ]
  },
  {
   "cell_type": "code",
   "execution_count": 62,
   "metadata": {},
   "outputs": [
    {
     "data": {
      "text/plain": [
       "True"
      ]
     },
     "execution_count": 62,
     "metadata": {},
     "output_type": "execute_result"
    }
   ],
   "source": [
    "A_4 = set([\"cru\", \"client\"])\n",
    "X_4 = set([\"cru\",\"client\",\"type\",\"remise\"])\n",
    "fds_4 = [(set([\"cru\"]),\"type\"),(set([\"type\", \"client\"]), \"remise\")]\n",
    "is_key_for(A_4, X_4, fds_4)"
   ]
  },
  {
   "cell_type": "markdown",
   "metadata": {},
   "source": [
    "### Closure of a set of functional dependencies\n",
    "\n",
    "The algorithm to find the closure of a set of functional dependencies is the following:"
   ]
  },
  {
   "cell_type": "code",
   "execution_count": 50,
   "metadata": {},
   "outputs": [],
   "source": [
    "import itertools\n",
    "def findsubsets(S,m):\n",
    "    return set(itertools.combinations(S, m))\n",
    "def closure(X, fds, verbose=False):\n",
    "    c = []\n",
    "    for size in range(1, len(X)):\n",
    "        subsets = findsubsets(X, size) \n",
    "        for SA in subsets:      # loop through all the subsets.\n",
    "            cl = compute_closure(set(SA), fds, verbose)\n",
    "            if len(cl.difference(SA)) > 0: \n",
    "                c.extend([(set(SA), cl.difference(SA))])\n",
    "    return c"
   ]
  },
  {
   "cell_type": "markdown",
   "metadata": {},
   "source": [
    "Let's see some examples of how to use it:"
   ]
  },
  {
   "cell_type": "code",
   "execution_count": 55,
   "metadata": {},
   "outputs": [
    {
     "name": "stdout",
     "output_type": "stream",
     "text": [
      "FDs = \tB -> D\n",
      "\tB,C -> D\n",
      "\tB,A -> C,D\n",
      "\tA,D -> C,B\n",
      "\tB,C,A -> D\n",
      "\tB,A,D -> C\n",
      "\tC,A,D -> B\n"
     ]
    }
   ],
   "source": [
    "attributes1 = set(['A', 'B', 'C', 'D'])\n",
    "fds1 = [(set(['A', 'B']), 'C'),\n",
    "     (set(['A', 'D']), 'B'),\n",
    "     (set(['B']), 'D')]\n",
    "print_fds(closure(attributes1, fds1))\n"
   ]
  },
  {
   "cell_type": "code",
   "execution_count": 56,
   "metadata": {},
   "outputs": [
    {
     "name": "stdout",
     "output_type": "stream",
     "text": [
      "FDs = \tCRU -> TYPE\n",
      "\tCLIENT,CRU -> TYPE,REMISE\n",
      "\tCLIENT,TYPE -> REMISE\n",
      "\tREMISE,CRU -> TYPE\n",
      "\tCLIENT,TYPE,CRU -> REMISE\n",
      "\tCLIENT,REMISE,CRU -> TYPE\n"
     ]
    }
   ],
   "source": [
    "attributes2 = set (['CRU', 'TYPE', 'CLIENT', 'REMISE'])\n",
    "fds2 = [(set(['CRU']), 'TYPE'),\n",
    "     (set(['TYPE', 'CLIENT']), 'REMISE')]\n",
    "print_fds(closure(attributes2, fds2))"
   ]
  },
  {
   "cell_type": "code",
   "execution_count": 57,
   "metadata": {},
   "outputs": [
    {
     "name": "stdout",
     "output_type": "stream",
     "text": [
      "FDs = \tTYPE -> MARQUE,PUISSANCE\n",
      "\tN VEH -> TYPE,PUISSANCE,MARQUE,COULEUR\n",
      "\tTYPE,COULEUR -> PUISSANCE,MARQUE\n",
      "\tTYPE,PUISSANCE -> MARQUE\n",
      "\tTYPE,MARQUE -> PUISSANCE\n",
      "\tMARQUE,N VEH -> TYPE,PUISSANCE,COULEUR\n",
      "\tCOULEUR,N VEH -> TYPE,PUISSANCE,MARQUE\n",
      "\tTYPE,N VEH -> PUISSANCE,MARQUE,COULEUR\n",
      "\tN VEH,PUISSANCE -> TYPE,MARQUE,COULEUR\n",
      "\tTYPE,COULEUR,N VEH -> PUISSANCE,MARQUE\n",
      "\tTYPE,MARQUE,COULEUR -> PUISSANCE\n",
      "\tMARQUE,COULEUR,N VEH -> TYPE,PUISSANCE\n",
      "\tTYPE,MARQUE,N VEH -> PUISSANCE,COULEUR\n",
      "\tTYPE,COULEUR,PUISSANCE -> MARQUE\n",
      "\tTYPE,N VEH,PUISSANCE -> MARQUE,COULEUR\n",
      "\tMARQUE,N VEH,PUISSANCE -> TYPE,COULEUR\n",
      "\tCOULEUR,N VEH,PUISSANCE -> TYPE,MARQUE\n",
      "\tMARQUE,COULEUR,N VEH,PUISSANCE -> TYPE\n",
      "\tTYPE,MARQUE,COULEUR,N VEH -> PUISSANCE\n",
      "\tTYPE,COULEUR,N VEH,PUISSANCE -> MARQUE\n",
      "\tTYPE,MARQUE,N VEH,PUISSANCE -> COULEUR\n"
     ]
    }
   ],
   "source": [
    "attributes3 = set( ['N VEH', 'TYPE', 'COULEUR', 'MARQUE', 'PUISSANCE'])\n",
    "fds3 = [(set(['N VEH']), 'TYPE'), \n",
    "      (set(['N VEH']), 'COULEUR'),\n",
    "      (set(['TYPE']), 'MARQUE'),\n",
    "      (set(['TYPE']), 'PUISSANCE')]\n",
    "print_fds(closure(attributes3,fds3))"
   ]
  },
  {
   "cell_type": "markdown",
   "metadata": {},
   "source": [
    "Now, let's write a method to find superkeys of the relations:\n"
   ]
  },
  {
   "cell_type": "code",
   "execution_count": 58,
   "metadata": {},
   "outputs": [],
   "source": [
    "def superkeys(X, fds, verbose=False):\n",
    "    c = []\n",
    "    for size in range(1, len(X)):\n",
    "        subsets = findsubsets(X, size)\n",
    "        for SA in subsets:\n",
    "            cl = compute_closure(set(SA), fds, verbose)\n",
    "            if cl == X and len(cl.difference(SA)) > 0: ## cl = X\n",
    "                c.extend([SA])\n",
    "    return c"
   ]
  },
  {
   "cell_type": "code",
   "execution_count": 59,
   "metadata": {},
   "outputs": [
    {
     "data": {
      "text/plain": [
       "[('B', 'A'), ('A', 'D'), ('B', 'C', 'A'), ('B', 'A', 'D'), ('C', 'A', 'D')]"
      ]
     },
     "execution_count": 59,
     "metadata": {},
     "output_type": "execute_result"
    }
   ],
   "source": [
    "superkeys(attributes1, fds1)\n"
   ]
  },
  {
   "cell_type": "markdown",
   "metadata": {},
   "source": [
    "Let's see some examples:"
   ]
  },
  {
   "cell_type": "code",
   "execution_count": 60,
   "metadata": {},
   "outputs": [
    {
     "data": {
      "text/plain": [
       "[('CLIENT', 'CRU'), ('CLIENT', 'TYPE', 'CRU'), ('CLIENT', 'REMISE', 'CRU')]"
      ]
     },
     "execution_count": 60,
     "metadata": {},
     "output_type": "execute_result"
    }
   ],
   "source": [
    "superkeys(attributes2, fds2)\n"
   ]
  },
  {
   "cell_type": "code",
   "execution_count": 61,
   "metadata": {},
   "outputs": [
    {
     "data": {
      "text/plain": [
       "[('N VEH',),\n",
       " ('MARQUE', 'N VEH'),\n",
       " ('N VEH', 'COULEUR'),\n",
       " ('N VEH', 'TYPE'),\n",
       " ('N VEH', 'PUISSANCE'),\n",
       " ('N VEH', 'TYPE', 'COULEUR'),\n",
       " ('MARQUE', 'N VEH', 'COULEUR'),\n",
       " ('MARQUE', 'N VEH', 'TYPE'),\n",
       " ('N VEH', 'TYPE', 'PUISSANCE'),\n",
       " ('MARQUE', 'N VEH', 'PUISSANCE'),\n",
       " ('N VEH', 'PUISSANCE', 'COULEUR'),\n",
       " ('MARQUE', 'N VEH', 'PUISSANCE', 'COULEUR'),\n",
       " ('MARQUE', 'N VEH', 'TYPE', 'COULEUR'),\n",
       " ('N VEH', 'TYPE', 'PUISSANCE', 'COULEUR'),\n",
       " ('MARQUE', 'N VEH', 'TYPE', 'PUISSANCE')]"
      ]
     },
     "execution_count": 61,
     "metadata": {},
     "output_type": "execute_result"
    }
   ],
   "source": [
    "superkeys(attributes3, fds3)"
   ]
  },
  {
   "cell_type": "markdown",
   "metadata": {},
   "source": [
    "#### Exercise 5\n",
    "\n",
    "Implement a `keys` method to find keys of a relation.\n",
    "\n",
    "**Note**: If there exist multiple keys of a relation, the `keys` method should return at least one of them."
   ]
  },
  {
   "cell_type": "code",
   "execution_count": 65,
   "metadata": {},
   "outputs": [],
   "source": [
    "def keys(X, fds, verbose=False):\n",
    "    sprkeys = superkeys(X, fds)\n",
    "    if len(sprkeys)==0:\n",
    "        return ('There are no keys')\n",
    "    key = sprkeys[0]\n",
    "    for i in sprkeys :\n",
    "        if len(i)<len(key):\n",
    "            key = i\n",
    "    return key"
   ]
  },
  {
   "cell_type": "markdown",
   "metadata": {},
   "source": [
    "Test it "
   ]
  },
  {
   "cell_type": "code",
   "execution_count": 66,
   "metadata": {},
   "outputs": [
    {
     "data": {
      "text/plain": [
       "('B', 'A')"
      ]
     },
     "execution_count": 66,
     "metadata": {},
     "output_type": "execute_result"
    }
   ],
   "source": [
    "keys(attributes1, fds1)"
   ]
  },
  {
   "cell_type": "code",
   "execution_count": 67,
   "metadata": {},
   "outputs": [
    {
     "data": {
      "text/plain": [
       "('CLIENT', 'CRU')"
      ]
     },
     "execution_count": 67,
     "metadata": {},
     "output_type": "execute_result"
    }
   ],
   "source": [
    "keys(attributes2, fds2)"
   ]
  },
  {
   "cell_type": "code",
   "execution_count": 68,
   "metadata": {},
   "outputs": [
    {
     "data": {
      "text/plain": [
       "('N VEH',)"
      ]
     },
     "execution_count": 68,
     "metadata": {},
     "output_type": "execute_result"
    }
   ],
   "source": [
    "keys(attributes3, fds3)"
   ]
  }
 ],
 "metadata": {
  "anaconda-cloud": {},
  "kernelspec": {
   "display_name": "Python 3",
   "language": "python",
   "name": "python3"
  },
  "language_info": {
   "codemirror_mode": {
    "name": "ipython",
    "version": 3
   },
   "file_extension": ".py",
   "mimetype": "text/x-python",
   "name": "python",
   "nbconvert_exporter": "python",
   "pygments_lexer": "ipython3",
   "version": "3.8.3"
  }
 },
 "nbformat": 4,
 "nbformat_minor": 2
}
